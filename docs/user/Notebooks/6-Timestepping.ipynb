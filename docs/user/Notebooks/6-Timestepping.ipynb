{
 "cells": [
  {
   "cell_type": "markdown",
   "id": "26d2a9ca-c094-40f2-b978-333c14142874",
   "metadata": {},
   "source": [
    "# Notebook 6: Time-dependence\n",
    "\n",
    "<div style=\"float: right; width: 40%\">\n",
    "    \n",
    "![](media/AnnulusConvectionModel.png)\n",
    "\n",
    "</div>\n",
    "\n",
    "\n",
    "\n",
    "\n",
    "\n",
    "We'll look at a convection problem which couples Stokes Flow with time-dependent advection/diffusion.\n",
    "\n",
    "The starting point is our previous notebook where we solved for Stokes\n",
    "flow in a cylindrical annulus geometry. We then add an advection-diffusion \n",
    "solver to evolve temperature. The Stokes buoyancy force is proportional to the\n",
    "temperature anomaly, and the velocity solution is fed back into the \n",
    "temperature advection term.\n"
   ]
  },
  {
   "cell_type": "code",
   "execution_count": 1,
   "id": "0974f1a1-60dd-4d52-9855-79e8030450e9",
   "metadata": {},
   "outputs": [],
   "source": [
    "#|  echo: false  # Hide in html version\n",
    "\n",
    "# This is required to fix pyvista\n",
    "# (visualisation) crashes in interactive notebooks (including on binder)\n",
    "\n",
    "import nest_asyncio\n",
    "\n",
    "nest_asyncio.apply()"
   ]
  },
  {
   "cell_type": "code",
   "execution_count": 2,
   "id": "dddf1a25-1d89-4c39-90dc-9ca5a45db5dd",
   "metadata": {},
   "outputs": [
    {
     "name": "stdout",
     "output_type": "stream",
     "text": [
      "PostHog telemetry failed: HTTPSConnectionPool(host='eu.i.posthog.com', port=443): Max retries exceeded with url: /capture/ (Caused by NameResolutionError(\"<urllib3.connection.HTTPSConnection object at 0x321263c20>: Failed to resolve 'eu.i.posthog.com' ([Errno 8] nodename nor servname provided, or not known)\"))\n"
     ]
    }
   ],
   "source": [
    "#| output: false # Suppress warnings in html version\n",
    "\n",
    "import numpy as np\n",
    "import sympy\n",
    "import underworld3 as uw"
   ]
  },
  {
   "cell_type": "code",
   "execution_count": 3,
   "id": "d17b5f9b-d00e-43c2-ba10-b9a8920aa3be",
   "metadata": {},
   "outputs": [],
   "source": [
    "res = 10\n",
    "r_o = 1.0\n",
    "r_i = 0.55\n",
    "\n",
    "rayleigh_number = 3.0e4\n",
    "\n",
    "meshball = uw.meshing.Annulus(\n",
    "    radiusOuter=r_o,\n",
    "    radiusInner=r_i,\n",
    "    cellSize=1 / res,\n",
    "    qdegree=3,\n",
    ")\n",
    "\n",
    "# Coordinate directions etc\n",
    "x, y = meshball.CoordinateSystem.X\n",
    "r, th = meshball.CoordinateSystem.xR\n",
    "unit_rvec = meshball.CoordinateSystem.unit_e_0\n",
    "\n",
    "# Orientation of surface normals\n",
    "Gamma_N = unit_rvec"
   ]
  },
  {
   "cell_type": "code",
   "execution_count": 4,
   "id": "377301f7-9596-4216-917f-fc5dca474c0d",
   "metadata": {},
   "outputs": [],
   "source": [
    "# Mesh variables for the unknowns\n",
    "\n",
    "v_soln = uw.discretisation.MeshVariable(\"V0\", meshball, 2, degree=2, varsymbol=r\"{v_0}\")\n",
    "p_soln = uw.discretisation.MeshVariable(\"p\", meshball, 1, degree=1, continuous=True)\n",
    "t_soln = uw.discretisation.MeshVariable(\"T\", meshball, 1, degree=3, continuous=True)"
   ]
  },
  {
   "cell_type": "markdown",
   "id": "c93891fa-b8ce-432d-83ae-1980914995f6",
   "metadata": {},
   "source": [
    "### Create linked solvers\n",
    "\n",
    "We create the Stokes solver as we did in the previous notebook. \n",
    "The buoyancy force is proportional to the temperature anomaly\n",
    "(`t_soln`). Solvers can either be provided with unknowns as pre-defined\n",
    "meshVariables, or they will define their own. When solvers are coupled,\n",
    "explicitly defining unknowns makes everything clearer.\n",
    "\n",
    "The advection-diffusion solver evolved `t_soln` using the Stokes\n",
    "velocity `v_soln` in the fluid-transport term. \n",
    "\n",
    "### Curved, free-slip boundaries\n",
    "\n",
    "In the annulus, a free slip boundary corresponds to zero radial \n",
    "velocity. However, in this mesh, $v_r$ is not one of the unknowns\n",
    "($\\mathbf{v} = (v_x, v_y)$). We apply a non linear boundary condition that\n",
    "penalises $v_r$ on the boundary as discussed previously in Example 5. "
   ]
  },
  {
   "cell_type": "code",
   "execution_count": 5,
   "id": "3f3c3875-4ba1-4e99-a793-3446af229b6d",
   "metadata": {},
   "outputs": [],
   "source": [
    "stokes = uw.systems.Stokes(\n",
    "    meshball,\n",
    "    velocityField=v_soln,\n",
    "    pressureField=p_soln,\n",
    ")\n",
    "\n",
    "stokes.bodyforce = rayleigh_number * t_soln.sym * unit_rvec\n",
    "\n",
    "stokes.constitutive_model = uw.constitutive_models.ViscousFlowModel\n",
    "stokes.constitutive_model.Parameters.shear_viscosity_0 = 1\n",
    "stokes.tolerance = 1.0e-3\n",
    "\n",
    "stokes.petsc_options[\"fieldsplit_velocity_mg_coarse_pc_type\"] = \"svd\"\n",
    "\n",
    "stokes.add_natural_bc(1000000 * Gamma_N.dot(v_soln.sym) * Gamma_N, \"Upper\")\n",
    "\n",
    "if r_i != 0.0:\n",
    "    stokes.add_natural_bc(1000000 * Gamma_N.dot(v_soln.sym) * Gamma_N, \"Lower\")"
   ]
  },
  {
   "cell_type": "code",
   "execution_count": 6,
   "id": "61f1c083-ce57-420c-87ee-32a0c546e40f",
   "metadata": {},
   "outputs": [],
   "source": [
    "# Create solver for the energy equation (Advection-Diffusion of temperature)\n",
    "\n",
    "adv_diff = uw.systems.AdvDiffusion(\n",
    "    meshball,\n",
    "    u_Field=t_soln,\n",
    "    V_fn=v_soln,\n",
    "    order=2,\n",
    "    verbose=False,\n",
    ")\n",
    "\n",
    "adv_diff.constitutive_model = uw.constitutive_models.DiffusionModel\n",
    "adv_diff.constitutive_model.Parameters.diffusivity = 1\n",
    "\n",
    "## Boundary conditions for this solver\n",
    "\n",
    "adv_diff.add_dirichlet_bc(+1.0, \"Lower\")\n",
    "adv_diff.add_dirichlet_bc(-0.0, \"Upper\")\n",
    "\n",
    "adv_diff.petsc_options.setValue(\"snes_rtol\", 0.001)\n",
    "adv_diff.petsc_options.setValue(\"ksp_rtol\", 0.0001)\n",
    "adv_diff.petsc_options.setValue(\"snes_monitor\", None)\n",
    "adv_diff.petsc_options.setValue(\"ksp_monitor\", None)\n"
   ]
  },
  {
   "cell_type": "code",
   "execution_count": 7,
   "id": "6b97dabb-27b1-4682-982e-6536eeef6652",
   "metadata": {
    "scrolled": true
   },
   "outputs": [
    {
     "name": "stdout",
     "output_type": "stream",
     "text": [
      "\n",
      "\n",
      "Mesh # 0: .meshes/uw_annulus_ro1.0_ri0.55_csize0.1.msh\n",
      "\n"
     ]
    },
    {
     "data": {
      "application/vnd.jupyter.widget-view+json": {
       "model_id": "59bd8240401845d293e0d0503c4223a3",
       "version_major": 2,
       "version_minor": 0
      },
      "text/plain": [
       "Widget(value='<iframe src=\"http://localhost:53516/index.html?ui=P_0x335dd82c0_0&reconnect=auto\" class=\"pyvista…"
      ]
     },
     "metadata": {},
     "output_type": "display_data"
    },
    {
     "name": "stdout",
     "output_type": "stream",
     "text": [
      "Number of cells: 568\n",
      "\n",
      "| Variable Name       | component | degree |     type        |\n",
      "| ---------------------------------------------------------- |\n",
      "| V0                  |    2      |   2    |     VECTOR      |\n",
      "| p                   |    1      |   1    |     SCALAR      |\n",
      "| T                   |    1      |   3    |     SCALAR      |\n",
      "| psi_star_sl_16_0    |    1      |   3    |     SCALAR      |\n",
      "| W_16_0              |    1      |   3    |     SCALAR      |\n",
      "| psi_star_sl_28_0    |    2      |   3    |     VECTOR      |\n",
      "| psi_star_sl_28_1    |    2      |   3    |     VECTOR      |\n",
      "| W_28_1              |    2      |   3    |     VECTOR      |\n",
      "| ---------------------------------------------------------- |\n",
      "\n",
      "\n",
      "| Boundary Name            | ID    | Min Size | Max Size |\n",
      "| ------------------------------------------------------ |\n",
      "| Lower                    | 1     | 70       | 70       |\n",
      "| Upper                    | 2     | 126      | 126      |\n",
      "| Centre                   | 10    | 0        | 0        |\n",
      "| Null_Boundary            | 666   | 334      | 334      |\n",
      "| All_Boundaries           | 1001  | 100      | 100      |\n",
      "| All_Boundaries           | 1001  | 100      | 100      |\n",
      "| UW_Boundaries            | --    | 630      | 630      |\n",
      "| ------------------------------------------------------ |\n",
      "\n",
      "\n",
      "DM Object: uw_.meshes/uw_annulus_ro1.0_ri0.55_csize0.1.msh 1 MPI process\n",
      "  type: plex\n",
      "uw_.meshes/uw_annulus_ro1.0_ri0.55_csize0.1.msh in 2 dimensions:\n",
      "  Number of 0-cells per rank: 334\n",
      "  Number of 1-cells per rank: 902\n",
      "  Number of 2-cells per rank: 568\n",
      "Labels:\n",
      "  depth: 3 strata with value/size (0 (334), 1 (902), 2 (568))\n",
      "  All_Boundaries: 1 strata with value/size (1001 (100))\n",
      "  Elements: 1 strata with value/size (666666 (802))\n",
      "  Lower: 1 strata with value/size (1 (70))\n",
      "  Upper: 1 strata with value/size (2 (126))\n",
      "  celltype: 3 strata with value/size (0 (334), 1 (902), 3 (568))\n",
      "  Null_Boundary: 1 strata with value/size (666 (334))\n",
      "  UW_Boundaries: 4 strata with value/size (1 (70), 2 (126), 666 (334), 1001 (100))\n",
      "Field V0:\n",
      "  adjacency FEM\n",
      "Field p:\n",
      "  adjacency FEM\n",
      "Field T:\n",
      "  adjacency FEM\n",
      "Field psi_star_sl_16_0:\n",
      "  adjacency FEM\n",
      "Field W_16_0:\n",
      "  adjacency FEM\n",
      "Field psi_star_sl_28_0:\n",
      "  adjacency FEM\n",
      "Field psi_star_sl_28_1:\n",
      "  adjacency FEM\n",
      "Field W_28_1:\n",
      "  adjacency FEM\n"
     ]
    }
   ],
   "source": [
    "meshball.view(1)"
   ]
  },
  {
   "cell_type": "markdown",
   "id": "b76fd635-606b-446e-9f79-b1dde4939a05",
   "metadata": {},
   "source": [
    "#### Underworld expressions\n",
    "\n",
    "Note that "
   ]
  },
  {
   "cell_type": "code",
   "execution_count": 8,
   "id": "1ddd1c6e-0847-4add-af60-032f039c2315",
   "metadata": {},
   "outputs": [
    {
     "data": {
      "text/plain": [
       "underworld3.function.expressions.UWexpression"
      ]
     },
     "metadata": {},
     "output_type": "display_data"
    },
    {
     "data": {
      "text/plain": [
       "underworld3.function.expressions.UWexpression"
      ]
     },
     "metadata": {},
     "output_type": "display_data"
    },
    {
     "data": {
      "text/latex": [
       "$\\displaystyle 1$"
      ],
      "text/plain": [
       "1"
      ]
     },
     "execution_count": 8,
     "metadata": {},
     "output_type": "execute_result"
    }
   ],
   "source": [
    "display(type(stokes.constitutive_model.Parameters.shear_viscosity_0))\n",
    "display(type(adv_diff.constitutive_model.Parameters.diffusivity))\n",
    "\n",
    "stokes.constitutive_model.Parameters.shear_viscosity_0.sym"
   ]
  },
  {
   "cell_type": "markdown",
   "id": "606ab233-9562-478a-ba15-5b2f801789fd",
   "metadata": {},
   "source": [
    "### Initial condition\n",
    "\n",
    "We need to set an initial condition for the temperature field as the \n",
    "coupled system is an initial value problem. Choose whatever works but\n",
    "remember that the boundary conditions will over-rule values you set on \n",
    "the lower and upper boundaries."
   ]
  },
  {
   "cell_type": "code",
   "execution_count": 9,
   "id": "366ce888-c27a-4a30-bca0-ad406ccaa34c",
   "metadata": {},
   "outputs": [
    {
     "name": "stdout",
     "output_type": "stream",
     "text": [
      "Expression to be evaluated: -2.22222222222222*sqrt(N.x**2 + N.y**2) + 0.1*sin(3*atan2(N.y, N.x))*cos(6.98131700797732*sqrt(N.x**2 + N.y**2) - 3.83972435438753) + 2.22222222222222\n"
     ]
    }
   ],
   "source": [
    "# Initial temperature\n",
    "\n",
    "init_t = 0.1 * sympy.sin(3 * th) * sympy.cos(np.pi * (r - r_i) / (r_o - r_i)) + (\n",
    "    r_o - r\n",
    ") / (r_o - r_i)\n",
    "\n",
    "with meshball.access(t_soln):\n",
    "    t_soln.data[:, 0] = uw.function.evaluate(init_t, t_soln.coords, verbose=True)"
   ]
  },
  {
   "cell_type": "markdown",
   "id": "99b3d65e-8702-418f-9da7-8d4c0d1508c2",
   "metadata": {},
   "source": [
    "#### Initial velocity solve\n",
    "\n",
    "The first solve allows us to determine the magnitude of the velocity field \n",
    "and is useful to keep separated to check convergence rates etc. \n",
    "\n",
    "For non-linear problems, we usually need an initial guess using a \n",
    "reasonably close linear problem. \n",
    "\n",
    "`zero_init_guess` is used to reset any information in the vector of \n",
    "unknowns (i.e. do not use any initial information if `zero_init_guess==True`)."
   ]
  },
  {
   "cell_type": "code",
   "execution_count": 10,
   "id": "51f82885-0b41-4454-9953-ac7ea23e38e3",
   "metadata": {},
   "outputs": [],
   "source": [
    "stokes.solve(zero_init_guess=True)"
   ]
  },
  {
   "cell_type": "code",
   "execution_count": 11,
   "id": "1c660972-f858-43bc-a6c4-5e09cc8f9fdf",
   "metadata": {},
   "outputs": [],
   "source": [
    "# Keep the initialisation separate\n",
    "# so we can run the loop again in a notebook\n",
    "\n",
    "max_steps = 15\n",
    "timestep = 0\n",
    "elapsed_time = 0.0"
   ]
  },
  {
   "cell_type": "code",
   "execution_count": 12,
   "id": "4a334648-c328-42bf-b71f-383246cebdc9",
   "metadata": {},
   "outputs": [],
   "source": [
    "init_t = 0.1 * sympy.sin(3 * th) * sympy.cos(np.pi * (r - r_i) / (r_o - r_i)) + (\n",
    "    r_o - r\n",
    ") / (r_o - r_i)\n",
    "\n",
    "with meshball.access(t_soln):\n",
    "    t_soln.data[:, 0] = uw.function.evaluate(\n",
    "        init_t + 0.0001 * t_soln.sym[0], adv_diff.DuDt.psi_star[0].coords\n",
    "    )"
   ]
  },
  {
   "cell_type": "code",
   "execution_count": 13,
   "id": "d973fc53-7753-45f4-addb-abc3ef85d35d",
   "metadata": {},
   "outputs": [
    {
     "data": {
      "text/plain": [
       "0.0015310756944410533"
      ]
     },
     "execution_count": 13,
     "metadata": {},
     "output_type": "execute_result"
    }
   ],
   "source": [
    "adv_diff.estimate_dt()"
   ]
  },
  {
   "cell_type": "code",
   "execution_count": 14,
   "id": "2993d3aa-6355-408b-ab60-cf80aebbf0cb",
   "metadata": {},
   "outputs": [
    {
     "name": "stdout",
     "output_type": "stream",
     "text": [
      "Substepping 1 / 0.9448225121764924, -0.01 \n",
      "Substepping 1 / 0.9448225121764924, -0.01 \n",
      "Substepping 1 / 0.9448225121764924, -0.01 \n",
      "  0 SNES Function norm 9.477349938932e+00\n",
      "    Residual norms for Solver_14_ solve.\n",
      "    0 KSP Residual norm 5.145427711298e+01\n",
      "    1 KSP Residual norm 6.664542414006e+00\n",
      "    2 KSP Residual norm 1.519894691968e+00\n",
      "    3 KSP Residual norm 8.840535890006e-01\n",
      "    4 KSP Residual norm 5.301684627374e-01\n",
      "    5 KSP Residual norm 2.425123700002e-01\n",
      "    6 KSP Residual norm 1.150914265038e-01\n",
      "    7 KSP Residual norm 6.173456953468e-02\n",
      "    8 KSP Residual norm 3.137871636699e-02\n",
      "    9 KSP Residual norm 1.401507093394e-02\n",
      "   10 KSP Residual norm 6.781771828793e-03\n",
      "   11 KSP Residual norm 3.791327651989e-03\n",
      "  1 SNES Function norm 3.383908652549e-03\n",
      "Pre-solve time 2.046229600906372 / SNES solve time 0.03188920021057129 / post-solve time 5.9604644775390625e-06\n"
     ]
    }
   ],
   "source": [
    "adv_diff.solve(timestep=0.01, zero_init_guess=True, _evalf=True)"
   ]
  },
  {
   "cell_type": "code",
   "execution_count": null,
   "id": "1ddd846f-5c1e-474f-8e69-9042e3b4d4f6",
   "metadata": {},
   "outputs": [],
   "source": []
  },
  {
   "cell_type": "code",
   "execution_count": 16,
   "id": "8db49d4c-9dcd-4920-901a-65cf8d0056db",
   "metadata": {},
   "outputs": [
    {
     "name": "stdout",
     "output_type": "stream",
     "text": [
      "SNES_Scalar (Solver_14_): Pointwise functions need to be built\n",
      "JIT compiled module cached ... 8681933316987824546 \n",
      "Substepping 1 / 0.5926793417919514, -0.007655378472205266 \n"
     ]
    },
    {
     "ename": "SyntaxError",
     "evalue": "unexpected character after line continuation character (<lambdifygenerated-31>, line 4)",
     "output_type": "error",
     "traceback": [
      "Traceback \u001b[36m(most recent call last)\u001b[39m:\n",
      "  File \u001b[92m~/+Underworld/underworld-pixi-2/.pixi/envs/default/lib/python3.12/site-packages/IPython/core/interactiveshell.py:3672\u001b[39m in \u001b[95mrun_code\u001b[39m\n    exec(code_obj, self.user_global_ns, self.user_ns)\n",
      "  Cell \u001b[92mIn[16]\u001b[39m\u001b[92m, line 7\u001b[39m\n    adv_diff.solve(timestep=delta_t, _evalf=False, zero_init_guess=False, verbose=True)\n",
      "  File \u001b[92m~/+Underworld/underworld-pixi-2/.pixi/envs/default/lib/python3.12/site-packages/underworld3/systems/solvers.py:1483\u001b[39m in \u001b[95msolve\u001b[39m\n    self.DuDt.update_pre_solve(timestep, verbose=verbose, evalf=_evalf)\n",
      "  File \u001b[92m~/+Underworld/underworld-pixi-2/.pixi/envs/default/lib/python3.12/site-packages/underworld3/systems/ddt.py:673\u001b[39m in \u001b[95mupdate_pre_solve\u001b[39m\n    self._nswarm_psi.advection(\n",
      "  File \u001b[92m~/+Underworld/underworld-pixi-2/.pixi/envs/default/lib/python3.12/site-packages/underworld3/swarm.py:3618\u001b[39m in \u001b[95madvection\u001b[39m\n    super().advection(\n",
      "  File \u001b[92m~/+Underworld/underworld-pixi-2/.pixi/envs/default/lib/python3.12/site-packages/underworld3/swarm.py:3368\u001b[39m in \u001b[95madvection\u001b[39m\n    v_at_Vpts[:, d] = uw.function.evaluate(\n",
      "  File \u001b[92msrc/underworld3/function/_function.pyx:288\u001b[39m in \u001b[95munderworld3.function._function.evaluate\u001b[39m\n",
      "  File \u001b[92msrc/underworld3/function/_function.pyx:578\u001b[39m in \u001b[95munderworld3.function._function.petsc_interpolate\u001b[39m\n",
      "\u001b[36m  \u001b[39m\u001b[36mFile \u001b[39m\u001b[32m~/+Underworld/underworld-pixi-2/.pixi/envs/default/lib/python3.12/site-packages/sympy/utilities/lambdify.py:919\u001b[39m\u001b[36m in \u001b[39m\u001b[35mlambdify\u001b[39m\n\u001b[31m    \u001b[39m\u001b[31mc = compile(funcstr, filename, 'exec')\u001b[39m\n",
      "  \u001b[36mFile \u001b[39m\u001b[32m<lambdifygenerated-31>:4\u001b[39m\n\u001b[31m    \u001b[39m\u001b[31mreturn { \\hspace{ 0.04pt } {{v_0}} }_{ 1 }(Dummy_689, Dummy_688)\u001b[39m\n              ^\n\u001b[31mSyntaxError\u001b[39m\u001b[31m:\u001b[39m unexpected character after line continuation character\n"
     ]
    }
   ],
   "source": [
    "# Null space ?\n",
    "\n",
    "for step in range(0, max_steps):\n",
    "\n",
    "    stokes.solve(zero_init_guess=False)\n",
    "    delta_t = 5 * adv_diff.estimate_dt()\n",
    "    adv_diff.solve(timestep=delta_t, _evalf=False, zero_init_guess=False, verbose=True)\n",
    "\n",
    "    timestep += 1\n",
    "    elapsed_time += delta_t\n",
    "\n",
    "    if timestep % 5 == 0:\n",
    "        print(f\"Timestep: {timestep}, time {elapsed_time}\")"
   ]
  },
  {
   "cell_type": "code",
   "execution_count": null,
   "id": "09e26f46-452e-49ec-8180-103163cc4fc2",
   "metadata": {},
   "outputs": [],
   "source": [
    "# visualise it\n",
    "\n",
    "\n",
    "if uw.mpi.size == 1:\n",
    "    import pyvista as pv\n",
    "    import underworld3.visualisation as vis\n",
    "\n",
    "    pvmesh = vis.mesh_to_pv_mesh(meshball)\n",
    "    pvmesh.point_data[\"P\"] = vis.scalar_fn_to_pv_points(pvmesh, p_soln.sym)\n",
    "    pvmesh.point_data[\"V\"] = vis.vector_fn_to_pv_points(pvmesh, v_soln.sym)\n",
    "    pvmesh.point_data[\"T\"] = vis.scalar_fn_to_pv_points(pvmesh, t_soln.sym)\n",
    "\n",
    "    pvmesh_t = vis.meshVariable_to_pv_mesh_object(t_soln)\n",
    "    pvmesh_t.point_data[\"T\"] = vis.scalar_fn_to_pv_points(pvmesh_t, t_soln.sym)\n",
    "\n",
    "    skip = 1\n",
    "    points = np.zeros((meshball._centroids[::skip].shape[0], 3))\n",
    "    points[:, 0] = meshball._centroids[::skip, 0]\n",
    "    points[:, 1] = meshball._centroids[::skip, 1]\n",
    "    point_cloud = pv.PolyData(points)\n",
    "\n",
    "    pvstream = pvmesh.streamlines_from_source(\n",
    "        point_cloud,\n",
    "        vectors=\"V\",\n",
    "        integration_direction=\"both\",\n",
    "        integrator_type=45,\n",
    "        surface_streamlines=True,\n",
    "        initial_step_length=0.01,\n",
    "        max_time=1.0,\n",
    "        max_steps=500,\n",
    "    )\n",
    "\n",
    "    pl = pv.Plotter(window_size=(750, 750))\n",
    "\n",
    "    pl.add_mesh(\n",
    "        pvmesh_t,\n",
    "        cmap=\"RdBu_r\",\n",
    "        edge_color=\"Grey\",\n",
    "        edge_opacity=0.33,\n",
    "        scalars=\"T\",\n",
    "        show_edges=True,\n",
    "        use_transparency=False,\n",
    "        opacity=1.0,\n",
    "        show_scalar_bar=False,\n",
    "    )\n",
    "\n",
    "    pl.add_mesh(\n",
    "        pvstream,\n",
    "        opacity=0.33,\n",
    "        show_scalar_bar=False,\n",
    "        cmap=\"Greens\",\n",
    "        render_lines_as_tubes=False,\n",
    "    )\n",
    "\n",
    "    pl.export_html(\"html5/annulus_convection_plot.html\")\n",
    "    # pl.show(cpos=\"xy\", jupyter_backend=\"trame\")"
   ]
  },
  {
   "cell_type": "code",
   "execution_count": null,
   "id": "3775ea27-4d60-4675-a1cc-a9ba016b5d73",
   "metadata": {},
   "outputs": [],
   "source": [
    "#| fig-cap: \"Interactive Image: Convection model output\"\n",
    "from IPython.display import IFrame\n",
    "\n",
    "IFrame(src=\"html5/annulus_convection_plot.html\", width=500, height=400)"
   ]
  },
  {
   "cell_type": "markdown",
   "id": "c3d1d6ff-68ac-46c0-8a47-e29e95fed462",
   "metadata": {},
   "source": [
    "## Exercise - Null space\n",
    "\n",
    "Based on our previous notebook, can you see how to calculate and (if necessary) remove rigid-body the rotation \n",
    "null-space from the solution ? \n",
    "\n",
    "The use of a coarse-level singular-value decomposition for the velocity solver should help, in this case, but sometimes\n",
    "you can see that there is a rigid body rotation (look at the streamlines). It's wise to check and quantify the presence of \n",
    "the null space.\n",
    "\n",
    "```python\n",
    "    stokes.petsc_options[\"fieldsplit_velocity_mg_coarse_pc_type\"] = \"svd\"\n",
    "```\n",
    "\n",
    "## Exercise - Heat flux\n",
    "\n",
    "Could you calculate the radial heat flux field ? Its surface average value plotted against\n",
    "time tells you if you have reached a steady state.\n",
    "\n",
    "Hint:\n",
    "\n",
    "$$\n",
    "    Q_\\textrm{surf} = \\nabla T \\cdot \\hat{r} + T (\\mathbf{v} \\cdot \\hat{r} )\n",
    "$$ \n",
    "\n",
    "```python\n",
    "    Q_surf = -meshball.vector.gradient(t_soln.sym).dot(unit_rvec) +\\\n",
    "                    t_soln.sym[0] * v_soln.sym.dot(unit_rvec)\n",
    "```\n",
    "\n",
    "\n"
   ]
  },
  {
   "cell_type": "code",
   "execution_count": null,
   "id": "0e5e6ae9-752f-4637-8e8a-9539b6fd2282",
   "metadata": {},
   "outputs": [],
   "source": []
  }
 ],
 "metadata": {
  "kernelspec": {
   "display_name": "Python (Pixi)",
   "language": "python",
   "name": "pixi-kernel-python3"
  },
  "language_info": {
   "codemirror_mode": {
    "name": "ipython",
    "version": 3
   },
   "file_extension": ".py",
   "mimetype": "text/x-python",
   "name": "python",
   "nbconvert_exporter": "python",
   "pygments_lexer": "ipython3",
   "version": "3.12.11"
  }
 },
 "nbformat": 4,
 "nbformat_minor": 5
}
